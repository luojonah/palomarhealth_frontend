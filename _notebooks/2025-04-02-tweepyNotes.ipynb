{
 "cells": [
  {
   "cell_type": "code",
   "execution_count": null,
   "metadata": {
    "vscode": {
     "languageId": "yaml"
    }
   },
   "outputs": [],
   "source": [
    "---\n",
    "title: Tweepy API Notes\n",
    "description: A quick notetaker from videos and documentation of important Tweepy features.\n",
    "layout: post\n",
    "type: ccc\n",
    "toc: true\n",
    "comments: true\n",
    "---"
   ]
  },
  {
   "cell_type": "markdown",
   "metadata": {},
   "source": [
    "# Setting Up Tweepy\n",
    "**Must have a Twitter account.**\n",
    "After setting up Twitter account, add a phone number\n",
    "Go to <a href=\"developer.twitter.com/en\">this link</a>. Click developer portal and setup account.\n",
    "\n",
    "## Tweepy API\n",
    "Useful methods:\n",
    "- Client.search_all_tweets\n",
    "  - Allows you to view all tweets from a specified filter. Requires Academic Research product track.\n",
    "- Client.search_recent_tweets\n",
    "  - Allows you to pull all tweets from a specified filter from the last 7 days\n",
    "\n",
    "## Tweepy Results\n",
    "After experimenting Tweepy and spending time to get it to work, we discovered that the free plan only lets you pull a singular tweet every 15 minutes and 100 tweets a month, which had changed after Elon became CEO of twitter, being 500 tweets a month before. Due to this limitation we were unable to build an initial database using this API and I decided to scrap it. Now wer're looking into other options.\n",
    "\n",
    "# "
   ]
  }
 ],
 "metadata": {
  "language_info": {
   "name": "python"
  }
 },
 "nbformat": 4,
 "nbformat_minor": 2
}
