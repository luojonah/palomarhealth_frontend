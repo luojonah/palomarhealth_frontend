{
 "cells": [
  {
   "cell_type": "raw",
   "metadata": {
    "vscode": {
     "languageId": "raw"
    }
   },
   "source": [
    "---\n",
    "layout: post\n",
    "title: Chatroom\n",
    "description: Summary of Chatroom feature on Neptune\n",
    "type: issues \n",
    "comments: true\n",
    "---"
   ]
  },
  {
   "cell_type": "markdown",
   "metadata": {},
   "source": [
    "# arya.py"
   ]
  },
  {
   "cell_type": "markdown",
   "metadata": {},
   "source": [
    "I created a personal /api file that returns information about me."
   ]
  },
  {
   "cell_type": "code",
   "execution_count": null,
   "metadata": {},
   "outputs": [],
   "source": [
    "from flask import Blueprint, request, jsonify, g\n",
    "from flask_restful import Api, Resource\n",
    "\n",
    "arya_api = Blueprint('arya_api', __name__, url_prefix='/api')\n",
    "api = Api(arya_api)\n",
    "\n",
    "class AryaAPI:\n",
    "    class _A_Person(Resource):\n",
    "        def get(self):\n",
    "            return jsonify({\n",
    "                \"name\": \"Arya Savlani\",\n",
    "                \"age\": 15,\n",
    "                \"classes\": [\"AP Calc\", \"AP CSP\", \"AP Chem\", \"World History\", \"Offroll\"],\n",
    "                \"favorite\": {\n",
    "                    \"color\": \"Red\",\n",
    "                    \"number\": 8\n",
    "                }\n",
    "            })\n",
    "    \n",
    "\n",
    "api.add_resource(AryaAPI._A_Person, \"/arya\")"
   ]
  },
  {
   "cell_type": "markdown",
   "metadata": {},
   "source": [
    "Here is a screenshot of using postman to authenticate arya.py"
   ]
  },
  {
   "cell_type": "code",
   "execution_count": null,
   "metadata": {
    "vscode": {
     "languageId": "html"
    }
   },
   "outputs": [],
   "source": [
    "<img src=\"{{site.baseurl}}/images/image.png\""
   ]
  },
  {
   "cell_type": "markdown",
   "metadata": {
    "vscode": {
     "languageId": "raw"
    }
   },
   "source": [
    "# Chatroom"
   ]
  },
  {
   "cell_type": "markdown",
   "metadata": {
    "vscode": {
     "languageId": "html"
    }
   },
   "source": [
    "I was resposible for creating a chatroom where different users can discuss their classes. The first step was to import socket.io."
   ]
  },
  {
   "cell_type": "code",
   "execution_count": null,
   "metadata": {},
   "outputs": [],
   "source": [
    "from flask_socketio import SocketIO, send, emit"
   ]
  },
  {
   "cell_type": "markdown",
   "metadata": {},
   "source": [
    "# Frontend"
   ]
  },
  {
   "cell_type": "markdown",
   "metadata": {},
   "source": [
    "This frontend code establishes the connection with the backend, and displays it in the chatroom using displayMessage()."
   ]
  },
  {
   "cell_type": "code",
   "execution_count": null,
   "metadata": {
    "vscode": {
     "languageId": "html"
    }
   },
   "outputs": [],
   "source": [
    "<script src=\"https://cdnjs.cloudflare.com/ajax/libs/socket.io/4.6.1/socket.io.min.js\"></script>\n",
    "<script>\n",
    "  const socket = io.connect(\"http://127.0.0.1:8887\");\n",
    "  socket.on(\"connect\", () => {\n",
    "    console.log(\"Connected to the server\");\n",
    "  });\n",
    "\n",
    "  socket.on(\"chat_message\", (data) => {\n",
    "    displayMessage(`${data.user}: ${data.text}`);\n",
    "  });\n"
   ]
  },
  {
   "cell_type": "markdown",
   "metadata": {},
   "source": [
    "# Backend"
   ]
  },
  {
   "cell_type": "markdown",
   "metadata": {},
   "source": [
    "This backend code connects the client and the server listens for the \"chat_message\" event, and broadcasts the recived messages to all connected clients."
   ]
  },
  {
   "cell_type": "code",
   "execution_count": null,
   "metadata": {},
   "outputs": [],
   "source": [
    "app.cli.add_command(custom_cli)\n",
    "\n",
    "'''\n",
    "SocketIO Configuration\n",
    "\n",
    "Example message payload:\n",
    "{\n",
    "    \"user\": \"Arya\",\n",
    "    \"message\": \"Hi\"\n",
    "}\n",
    "'''x    \n",
    "\n",
    "socketio = SocketIO(app, cors_allowed_origins=\"*\")\n",
    "@socketio.on('connect')\n",
    "def handle_connect():\n",
    "    emit('message', {'user': 'Server', 'text': 'Welcome to the chat!'})\n",
    "\n",
    "@socketio.on('chat_message')\n",
    "def handle_chat_message(data):\n",
    "    emit('chat_message', data, broadcast=True)"
   ]
  }
 ],
 "metadata": {
  "kernelspec": {
   "display_name": "venv",
   "language": "python",
   "name": "python3"
  },
  "language_info": {
   "name": "python",
   "version": "3.10.12"
  }
 },
 "nbformat": 4,
 "nbformat_minor": 2
}
